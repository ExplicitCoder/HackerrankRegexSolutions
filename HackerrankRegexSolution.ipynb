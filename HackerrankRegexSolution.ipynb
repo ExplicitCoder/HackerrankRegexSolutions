{
 "metadata": {
  "language_info": {
   "codemirror_mode": {
    "name": "ipython",
    "version": 3
   },
   "file_extension": ".py",
   "mimetype": "text/x-python",
   "name": "python",
   "nbconvert_exporter": "python",
   "pygments_lexer": "ipython3",
   "version": "3.6.9"
  },
  "orig_nbformat": 4,
  "kernelspec": {
   "name": "python3",
   "display_name": "Python 3.6.9 64-bit"
  },
  "interpreter": {
   "hash": "31f2aee4e71d21fbe5cf8b01ff0e069b9275f58929596ceb00d14d90e3e16cd6"
  }
 },
 "nbformat": 4,
 "nbformat_minor": 2,
 "cells": [
  {
   "cell_type": "code",
   "execution_count": 4,
   "metadata": {},
   "outputs": [],
   "source": [
    "#HTML Attributes\n",
    "\n",
    "import re\n",
    "from collections import defaultdict\n",
    "tags = defaultdict(set)\n",
    "for n in range(int(input())):\n",
    "    for tag, attrs in re.findall(r'<(\\w+)(.*?)?>',input()):\n",
    "        tags[tag].update(re.findall(r'\\s(\\w+)=',attrs))\n",
    "for tag, attrs in sorted(tags.items()):\n",
    "    print(tag+':'+','.join(sorted(attrs)))"
   ]
  },
  {
   "cell_type": "code",
   "execution_count": 1,
   "metadata": {},
   "outputs": [],
   "source": [
    "#BritishAndAmerican\n",
    "\n",
    "l = ' '.join(input() for _ in range(int(input())))\n",
    "for i in range(int(input())):\n",
    "    inp = input()\n",
    "    print(l.count(inp) + l.count(inp[0:-2]+'se'))"
   ]
  },
  {
   "cell_type": "code",
   "execution_count": 2,
   "metadata": {},
   "outputs": [],
   "source": [
    "#UKandUS\n",
    "import re\n",
    "text = '\\n'.join(input() for _ in range(int(input())))\n",
    "for i in range(int(input())):\n",
    "    s1 = input()\n",
    "    s2 = s1.replace('ou','o')\n",
    "    print(len(re.findall(r\"\\b({}|{})\\b\".format(s1,s2),text)))"
   ]
  },
  {
   "cell_type": "code",
   "execution_count": 3,
   "metadata": {},
   "outputs": [
    {
     "output_type": "stream",
     "name": "stdout",
     "text": [
      "\n"
     ]
    }
   ],
   "source": [
    "#Detect HTML Tags\n",
    "\n",
    "import re\n",
    "tag = set()\n",
    "for _ in range(int(input())):\n",
    "    tag.update(re.findall(r'<(\\w+)>?',input()))\n",
    "print(';'.join(i for i in sorted(tag)))"
   ]
  },
  {
   "cell_type": "code",
   "execution_count": 4,
   "metadata": {},
   "outputs": [],
   "source": [
    "#Find A Sub-Word\n",
    "\n",
    "import re\n",
    "s = ' '.join(input() for _ in range(int(input())))\n",
    "for w in range(int(input())):\n",
    "    inp = input()\n",
    "    print(len(re.findall(r'\\w+({})\\w'.format(inp),s)))"
   ]
  },
  {
   "cell_type": "code",
   "execution_count": 5,
   "metadata": {},
   "outputs": [],
   "source": [
    "#Alien Username\n",
    "\n",
    "import re\n",
    "for _ in range(int(input())):\n",
    "    if re.match('^[_.]\\d+[a-zA-Z]*[_]?$',input()):\n",
    "        print('VALID')\n",
    "    else:\n",
    "        print('INVALID')\n",
    "\n",
    "#print('\\n'.join(['VALID' if re.search('^[_.]\\d+[a-zA-Z]*[_]?$', input()) else 'INVALID' for _ in range(int(input()))]))"
   ]
  },
  {
   "cell_type": "code",
   "execution_count": 6,
   "metadata": {},
   "outputs": [
    {
     "output_type": "error",
     "ename": "SyntaxError",
     "evalue": "invalid syntax (<ipython-input-6-d281df85f4b7>, line 5)",
     "traceback": [
      "\u001b[0;36m  File \u001b[0;32m\"<ipython-input-6-d281df85f4b7>\"\u001b[0;36m, line \u001b[0;32m5\u001b[0m\n\u001b[0;31m    ipv6 = ('^'+'{v}:'*7+'{v}$'.format(v='[\\da-f]{1,4}'))\u001b[0m\n\u001b[0m       ^\u001b[0m\n\u001b[0;31mSyntaxError\u001b[0m\u001b[0;31m:\u001b[0m invalid syntax\n"
     ]
    }
   ],
   "source": [
    "#IP Address Validation\n",
    "\n",
    "import re\n",
    "ipv4 = ('^'+'{v}\\.'*3+'{v}$'.format(v = '25[0-5]|2[0-4]\\d|[0-1]?\\d?\\d')\n",
    "ipv6 = ('^'+'{v}:'*7+'{v}$'.format(v='[\\da-f]{1,4}'))\n",
    "\n",
    "for _ in range(int(input())):\n",
    "    s = input()\n",
    "    if re.match(ipv4,s):\n",
    "        print('IPv4')\n",
    "    elif re.match(ipv6,s):\n",
    "        print('IPv6')\n",
    "    else:\n",
    "        print('Neither')"
   ]
  },
  {
   "cell_type": "code",
   "execution_count": 1,
   "metadata": {},
   "outputs": [],
   "source": [
    "#Find a Word\n",
    "\n",
    "import re\n",
    "l = ' '.join(input() for _ in range(int(input())))\n",
    "for i in range(int(input())):\n",
    "    print(len(re.findall(r'\\b({})\\b'.format(input()),l)))"
   ]
  },
  {
   "cell_type": "code",
   "execution_count": 9,
   "metadata": {},
   "outputs": [
    {
     "output_type": "stream",
     "name": "stdout",
     "text": [
      "digital@thehindu.co;inetads@thehindu.co;international@thehindu.co;letters@thehindu.co;readerseditor@thehindu.co;subs@thehindu.co;web.thehindu@thehindu.co\n"
     ]
    }
   ],
   "source": [
    "#Detect the Email Addresses\n",
    "import re\n",
    "\n",
    "l = ' '.join(input() for _ in range(int(input())))\n",
    "s = set(re.findall(r'([\\w\\.]+@[\\w]+\\.[\\.\\w]+\\w+)',l))\n",
    "print(';'.join(sorted(s)))"
   ]
  },
  {
   "cell_type": "code",
   "execution_count": 34,
   "metadata": {},
   "outputs": [
    {
     "output_type": "stream",
     "name": "stdout",
     "text": [
      "2.ads.indiatimes.com\n3.ads2book.com\n4.adscontent2.indiatimes.com\n5.advertise.indiatimes.com\n6.ahmedabadmirror.com\n7.b.scorecardresearch.com\n8.bangaloremirror.com\n9.base.google.com\n10.cmstrendslog.indiatimes.com\n11.content.magicbricks.com\n12.download.macromedia.com\n13.economictimes.indiatimes.com\n14.epaper.timesofindia.com\n15.facebook.com\n16.files.adspdbl.com\n17.gaana.com\n18.graph.facebook.com\n19.gujarati.economictimes.indiatimes.com\n20.guylife.com\n21.hindi.economictimes.indiatimes.com\n22.ibeat.indiatimes.com\n23.idiva.com\n24.indiatimes.com\n25.itn.ph.affinity.com\n26.itsmyascent.com\n27.m.timesofindia.com\n28.macromedia.com\n29.magicbricks.com\n30.maharashtratimes.indiatimes.com\n31.mobile.indiatimes.com\n32.mocolife.com\n33.mumbaimirror.com\n34.myeducationtimes.com\n35.myt.indiatimes.com\n36.mytimes.indiatimes.com\n37.navbharattimes.indiatimes.com\n38.netspiderads2.indiatimes.com\n39.netspiderads3.indiatimes.com\n40.netspideradswc.indiatimes.com\n41.ogp.me\n42.plus.google.com\n43.profile.live.com\n44.punemirror.in\n45.s3.amazonaws.com\n46.salescrm.indiatimes.com\n47.shopping.indiatimes.com\n48.simplymarry.com\n49.ssl.gstatic.com\n50.static.rewards.indiatimes.com\n51.tags.crwdcntrl.net\n52.tenders.indiatimes.com\n53.timescity.com\n54.timescity.com\n55.timescontent.com\n56.timesjobs.com\n57.timeslog.indiatimes.com\n58.timesnow.live.indiatimes.com\n59.timesnow.tv\n60.timesofindia.indiatimes.com\n61.timesofindia.speakingtree.in\n62.timesofmoney.com\n63.timestrends.indiatimes.com\n64.twitter.com\n65.vijaykarnataka.indiatimes.com\n66.w3.org\n67.webuild.indiatimes.com\n68.widgets.outbrain.com\n69.zigwheels.com\n70.zoomtv.in\n69\n"
     ]
    }
   ],
   "source": [
    "#Detect the Domain Name\n",
    "import re\n",
    "l = ' '.join(input() for _ in range(int(input())))\n",
    "p = r'https?:\\/\\/([\\w\\.]+)[\\/|\\?]'\n",
    "a = set(re.findall(p,l))\n",
    "alist = list(a)\n",
    "for i in range(len(a)):\n",
    "    alist[i] = alist[i].replace('www.','')\n",
    "#print(';'.join(sorted(alist)))\n",
    "count=0\n",
    "for i in sorted(alist):\n",
    "    count+=1\n",
    "    print(str(count)+\".\"+i)\n",
    "print(len(alist))"
   ]
  },
  {
   "cell_type": "code",
   "execution_count": 23,
   "metadata": {},
   "outputs": [
    {
     "output_type": "stream",
     "name": "stdout",
     "text": [
      "[]\n"
     ]
    }
   ],
   "source": [
    "#Building a Smart IDE: Identifying comments\n",
    "\n",
    "import re,sys\n",
    "\n",
    "print(\"\\n\".join(re.sub(r\"\\n\\s+\", \"\\n\", comment) for comment in re.findall(r\"(?s)(?m)(//.*?$|/\\*.*?\\*/)\", sys.stdin.read())))"
   ]
  },
  {
   "cell_type": "code",
   "execution_count": 1,
   "metadata": {},
   "outputs": [],
   "source": [
    "#Detecting Valid Latitude and Longitude Pairs\n",
    "\n",
    "import re\n",
    "\n",
    "for _ in range (int(input())):\n",
    "    print(\"Valid\" if re.match(r\"\\([+\\-]?(90(\\.0+)?|[1-8]\\d(\\.\\d+)?|\\d(\\.\\d+)?), [+\\-]?(180(\\.0+)?|1[0-7]\\d(\\.\\d+)?|\\d{2}(\\.\\d+)?|\\d(\\.\\d+)?)\\)\",input()) else \"Invalid\")\n"
   ]
  },
  {
   "cell_type": "code",
   "execution_count": 3,
   "metadata": {},
   "outputs": [
    {
     "output_type": "stream",
     "name": "stdout",
     "text": [
      "3\n"
     ]
    }
   ],
   "source": [
    "#HackerRank Tweets\n",
    "\n",
    "import re\n",
    "#print(len(re.findall(r'hackerrank',' '.join(input() for _ in range(int(input()))),flags=re.I)))\n",
    "\n",
    "for _ in range(int(input())):\n",
    "    s = input()\n",
    "    bopenindex = s.find('(')\n",
    "    comindex = s.find(',')\n",
    "    bcloseindex = s.find(')')\n",
    "    lat = s[bopenindex : comindex+1]\n",
    "    lon = s[comindex+2 : bcloseindex]\n",
    "    "
   ]
  },
  {
   "cell_type": "code",
   "execution_count": 6,
   "metadata": {},
   "outputs": [],
   "source": [
    "#Build a Stack Exchange Scraper\n",
    "\n",
    "import sys,re\n",
    "\n",
    "txt = sys.stdin.read()\n",
    "\n",
    "ip = r'<a href=\\\"/questions/(\\d+)/'\n",
    "qp = r'class=\\\"question-hyperlink\\\">([^<]+)<'\n",
    "tp = r'class=\\\"relativetime\\\">([^<]+)<'\n",
    "\n",
    "i = re.findall(ip,txt) \n",
    "q = re.findall(qp,txt)\n",
    "t = re.findall(tp,txt)\n",
    "\n",
    "f = list(zip(i,q,t))\n",
    "for i in f:\n",
    "    print(i[0]+';'+i[1]+';'+i[2])"
   ]
  },
  {
   "cell_type": "code",
   "execution_count": 7,
   "metadata": {},
   "outputs": [],
   "source": [
    "#Utopian Identification Number\n",
    "\n",
    "import re\n",
    "\n",
    "import re\n",
    "for _ in range(int(input())):\n",
    "    print('VALID' if re.match(r'[a-z]{0,3}\\d{2,8}[A-Z]{3,}',input()) else 'INVALID')"
   ]
  },
  {
   "cell_type": "code",
   "execution_count": 8,
   "metadata": {},
   "outputs": [],
   "source": [
    "#Valid PAN format\n",
    "\n",
    "import re\n",
    "\n",
    "for _ in range(int(input())):\n",
    "    print('YES' if re.match(r'[A-Z]{5}\\d{4}[A-Z]{1}',input()) else 'NO')"
   ]
  },
  {
   "cell_type": "code",
   "execution_count": 12,
   "metadata": {},
   "outputs": [
    {
     "output_type": "stream",
     "name": "stdout",
     "text": [
      "2\n",
      "1\n",
      "0\n",
      "-1\n"
     ]
    }
   ],
   "source": [
    "#Find HackerRank\n",
    "\n",
    "import re\n",
    "\n",
    "for _ in range(int(input())):\n",
    "    s = input()\n",
    "    if re.match(r'^(hackerrank).+',s):\n",
    "        print(1)\n",
    "    elif re.match(r'.+(hackerrank)$',s):\n",
    "        print(2)\n",
    "    elif re.match(r'^hackerrank$',s):\n",
    "        print(0)\n",
    "    else:\n",
    "        print(-1)"
   ]
  },
  {
   "cell_type": "code",
   "execution_count": 3,
   "metadata": {},
   "outputs": [
    {
     "output_type": "stream",
     "name": "stdout",
     "text": [
      "\n"
     ]
    }
   ],
   "source": [
    "#Saying Hi\n",
    "\n",
    "import re\n",
    "\n",
    "p = r'^[Hh][Ii] [^Dd]'\n",
    "l = []\n",
    "for _ in range(int(input())):\n",
    "    s = input()\n",
    "    if re.match(p,s):\n",
    "        l.append(s)\n",
    "print('\\n'.join(i for i in l))"
   ]
  },
  {
   "cell_type": "code",
   "execution_count": 9,
   "metadata": {},
   "outputs": [
    {
     "output_type": "stream",
     "name": "stdout",
     "text": [
      "VALID\n"
     ]
    }
   ],
   "source": [
    "#HackerRank Language\n",
    "\n",
    "l = ['C','CPP','JAVA','PYTHON','PERL','PHP','RUBY','CSHARP','HASKELL','CLOJURE','BASH','SCALA','ERLANG','CLISP','LUA','BRAINFUCK','JAVASCRIPT','GO','D','OCAML','R','PASCAL','SBCL','DART','GROOVY','OBJECTIVEC']\n",
    "\n",
    "for _ in range(int(input())):\n",
    "    s = input()\n",
    "    spos = s.find(' ')\n",
    "    x = int(s[0:spos])\n",
    "    if x >= 10000 and x <=100000 and s[spos+1:] in l:\n",
    "        print('VALID')\n",
    "    else:\n",
    "        print('INVALID')"
   ]
  },
  {
   "cell_type": "code",
   "execution_count": null,
   "metadata": {},
   "outputs": [],
   "source": [
    "#Building a Smart IDE: Programming Language Detection\n",
    "\n",
    "import re\n",
    "import sys\n",
    "\n",
    "txt = ''.join(sys.stdin.readlines())\n",
    "\n",
    "if 'java' in txt:\n",
    "    print(\"Java\")\n",
    "elif '#include' in txt:\n",
    "    print(\"C\")\n",
    "else:\n",
    "    print(\"Python\")\n"
   ]
  },
  {
   "cell_type": "code",
   "execution_count": 3,
   "metadata": {},
   "outputs": [],
   "source": [
    "#Split the Phone Numbers\n",
    "\n",
    "import re\n",
    "p = r'(\\d{1,3})[\\s\\-](\\d{1,3})[\\s\\-](\\d{4,10})'\n",
    "for _ in range(int(input())):\n",
    "    s = input()\n",
    "    l = re.findall(p,s)\n",
    "    print('CountryCode={},LocalAreaCode={},Number={}'.format(l[0][0],l[0][1],l[0][2]))"
   ]
  },
  {
   "cell_type": "code",
   "execution_count": 1,
   "metadata": {},
   "outputs": [
    {
     "output_type": "stream",
     "name": "stdout",
     "text": [
      "false\n"
     ]
    }
   ],
   "source": [
    "#Matching Specific Characters\n",
    "import re\n",
    "Regex_Pattern = r'^[123][120][xs0][30Aa][xsu][\\.\\,]$'\n",
    "\n",
    "print(str(bool(re.search(Regex_Pattern, input()))).lower())\n"
   ]
  },
  {
   "cell_type": "code",
   "execution_count": 2,
   "metadata": {},
   "outputs": [],
   "source": [
    "#Excluding Specific Characters\n",
    "\n",
    "import re\n",
    "\n",
    "p = r'^[^\\d][^aeiou][^bcDF][^\\s\\n\\r\\t\\f][^AEIOU][^\\.\\,]$'"
   ]
  },
  {
   "cell_type": "code",
   "execution_count": null,
   "metadata": {},
   "outputs": [],
   "source": [
    "#Matching Character Ranges\n",
    "\n",
    "import re\n",
    "\n",
    "p = r'^[a-z][1-9][^a-z][^A-Z][A-Z]'"
   ]
  },
  {
   "cell_type": "code",
   "execution_count": 3,
   "metadata": {},
   "outputs": [
    {
     "output_type": "stream",
     "name": "stdout",
     "text": [
      "Number of matches : 3\n"
     ]
    }
   ],
   "source": [
    "#Negative Lookbehind\n",
    "\n",
    "Regex_Pattern = r\"(?<![aeiouAEIOU]).\"\n",
    "\n",
    "import re\n",
    "\n",
    "Test_String = input()\n",
    "\n",
    "match = re.findall(Regex_Pattern, Test_String)\n",
    "\n",
    "print(\"Number of matches :\", len(match))\n",
    "\n"
   ]
  },
  {
   "cell_type": "code",
   "execution_count": 4,
   "metadata": {},
   "outputs": [
    {
     "output_type": "stream",
     "name": "stdout",
     "text": [
      "Number of matches : 0\n"
     ]
    }
   ],
   "source": [
    "#Positive Lookbehind\n",
    "\n",
    "Regex_Pattern = r\"(?<=[13579])\\d\"\n",
    "\n",
    "import re\n",
    "\n",
    "Test_String = input()\n",
    "\n",
    "match = re.findall(Regex_Pattern, Test_String)\n",
    "\n",
    "print(\"Number of matches :\", len(match))"
   ]
  },
  {
   "cell_type": "code",
   "execution_count": 5,
   "metadata": {},
   "outputs": [
    {
     "output_type": "stream",
     "name": "stdout",
     "text": [
      "false\n"
     ]
    }
   ],
   "source": [
    "#Matching Ending Items\n",
    "\n",
    "Regex_Pattern = r'^[a-zA-Z]*s$'\t# Do not delete 'r'.\n",
    "\n",
    "import re\n",
    "\n",
    "print(str(bool(re.search(Regex_Pattern, input()))).lower())"
   ]
  },
  {
   "cell_type": "code",
   "execution_count": 6,
   "metadata": {},
   "outputs": [
    {
     "output_type": "stream",
     "name": "stdout",
     "text": [
      "Number of matches : 0\n"
     ]
    }
   ],
   "source": [
    "#Positive Lookahead\n",
    "\n",
    "Regex_Pattern = r'o(?=oo)'\t# Do not delete 'r'.\n",
    "\n",
    "import re\n",
    "\n",
    "Test_String = input()\n",
    "\n",
    "match = re.findall(Regex_Pattern, Test_String)\n",
    "\n",
    "print(\"Number of matches :\", len(match))"
   ]
  },
  {
   "cell_type": "code",
   "execution_count": 8,
   "metadata": {},
   "outputs": [
    {
     "output_type": "stream",
     "name": "stdout",
     "text": [
      "Number of matches : 1\n"
     ]
    }
   ],
   "source": [
    "#Negative Lookahead\n",
    "\n",
    "Regex_Pattern = r\"(.)(?!\\1)\"\t# Do not delete 'r'.\n",
    "\n",
    "import re\n",
    "\n",
    "Test_String = input()\n",
    "\n",
    "match = re.findall(Regex_Pattern, Test_String)\n",
    "\n",
    "print(\"Number of matches :\", len(match))"
   ]
  },
  {
   "cell_type": "code",
   "execution_count": 9,
   "metadata": {},
   "outputs": [
    {
     "output_type": "stream",
     "name": "stdout",
     "text": [
      "false\n"
     ]
    }
   ],
   "source": [
    "#Matching Zero Or More Repetitions\n",
    "\n",
    "Regex_Pattern = r'^\\d{2,}[a-z]*[A-Z]*$'\t# Do not delete 'r'.\n",
    "\n",
    "import re\n",
    "\n",
    "print(str(bool(re.search(Regex_Pattern, input()))).lower())"
   ]
  },
  {
   "cell_type": "code",
   "execution_count": 10,
   "metadata": {},
   "outputs": [
    {
     "output_type": "stream",
     "name": "stdout",
     "text": [
      "false\n"
     ]
    }
   ],
   "source": [
    "#Matching One Or More Repetitions\n",
    "\n",
    "Regex_Pattern = r'^\\d+[A-Z]+[a-z]+$'\t# Do not delete 'r'.\n",
    "\n",
    "import re\n",
    "\n",
    "print(str(bool(re.search(Regex_Pattern, input()))).lower())"
   ]
  },
  {
   "cell_type": "code",
   "execution_count": 26,
   "metadata": {},
   "outputs": [
    {
     "output_type": "stream",
     "name": "stdout",
     "text": [
      "True\n"
     ]
    }
   ],
   "source": [
    "#Matching {x, y} Repetitions\n",
    "\n",
    "Regex_Pattern = r'^\\d{1,2}[A-Za-z]{3,}[\\.]{0,3}$'\n",
    "\n",
    "import re\n",
    "\n",
    "print(bool(re.search(Regex_Pattern, '1abc...')))"
   ]
  },
  {
   "cell_type": "code",
   "execution_count": 18,
   "metadata": {},
   "outputs": [],
   "source": [
    "#Detect HTML links\n",
    "\n",
    "import re\n",
    "p = r'<a href=\"(.*?)\".*?>([\\w ,./]*)(?=</)'\n",
    "for _ in range(int(input())):\n",
    "    s = input()\n",
    "    l = re.findall(p,s)\n",
    "    for i,j in l:\n",
    "        print('{},{}'.format(i,j.strip()))"
   ]
  },
  {
   "cell_type": "code",
   "execution_count": 19,
   "metadata": {},
   "outputs": [
    {
     "output_type": "stream",
     "name": "stdout",
     "text": [
      "false\n"
     ]
    }
   ],
   "source": [
    "#Matching {x} Repetitions\n",
    "\n",
    "Regex_Pattern = r'^[A-Za-z24680]{40}[\\s13579]{5}$'\n",
    "\n",
    "import re\n",
    "\n",
    "print(str(bool(re.search(Regex_Pattern, input()))).lower())"
   ]
  }
 ]
}